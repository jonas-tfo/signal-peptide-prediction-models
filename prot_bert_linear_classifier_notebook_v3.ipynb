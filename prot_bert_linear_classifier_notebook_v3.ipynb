{
 "cells": [
  {
   "cell_type": "code",
   "execution_count": null,
   "id": "04169412",
   "metadata": {},
   "outputs": [
    {
     "name": "stdout",
     "output_type": "stream",
     "text": [
      "Using device: mps\n"
     ]
    }
   ],
   "source": [
    "import tqdm as notebook_tqdm\n",
    "import torch\n",
    "import torch.nn as nn\n",
    "from torch.utils.data import Dataset, DataLoader\n",
    "from transformers import BertTokenizer, BertModel\n",
    "from sklearn.model_selection import train_test_split\n",
    "\n",
    "MODEL_NAME = \"Rostlab/prot_bert\" \n",
    "DEVICE = \"mps\" if torch.backends.mps.is_available() else \"cpu\" # using mps instead of cuda for training on mac\n",
    "#DEVICE = \"cpu\"  # use GPU if available, otherwise CPU\n",
    "print(f\"Using device: {DEVICE}\")\n",
    "NUM_CLASSES = 6  # num classes for classification\n",
    "BATCH_SIZE = 64\n",
    "EPOCHS = 10\n",
    "LR = 1e-5"
   ]
  },
  {
   "cell_type": "code",
   "execution_count": 37,
   "id": "4cc725e0",
   "metadata": {},
   "outputs": [
    {
     "name": "stdout",
     "output_type": "stream",
     "text": [
      "Total records: 25693\n"
     ]
    },
    {
     "data": {
      "application/vnd.microsoft.datawrangler.viewer.v0+json": {
       "columns": [
        {
         "name": "index",
         "rawType": "int64",
         "type": "integer"
        },
        {
         "name": "uniprot_ac",
         "rawType": "object",
         "type": "string"
        },
        {
         "name": "kingdom",
         "rawType": "object",
         "type": "string"
        },
        {
         "name": "type",
         "rawType": "object",
         "type": "string"
        },
        {
         "name": "sequence",
         "rawType": "object",
         "type": "string"
        },
        {
         "name": "label",
         "rawType": "object",
         "type": "string"
        }
       ],
       "ref": "a1aa644c-5a04-40eb-b2cd-e2ae0da9c472",
       "rows": [
        [
         "0",
         "Q8TF40",
         "EUKARYA",
         "NO_SP",
         "MAPTLFQKLFSKRTGLGAPGRDARDPDCGFSWPLPEFDPSQIRLIVYQDCERRGRNVLFDSSVKRRNEDI",
         "IIIIIIIIIIIIIIIIIIIIIIIIIIIIIIIIIIIIIIIIIIIIIIIIIIIIIIIIIIIIIIIIIIIIII"
        ],
        [
         "1",
         "Q1ENB6",
         "EUKARYA",
         "NO_SP",
         "MDFTSLETTTFEEVVIALGSNVGNRMNNFKEALRLMKDYGISVTRHSCLYETEPVHVTDQPRFLNAAIRG",
         "IIIIIIIIIIIIIIIIIIIIIIIIIIIIIIIIIIIIIIIIIIIIIIIIIIIIIIIIIIIIIIIIIIIIII"
        ],
        [
         "2",
         "P36001",
         "EUKARYA",
         "NO_SP",
         "MDDISGRQTLPRINRLLEHVGNPQDSLSILHIAGTNGKETVSKFLTSILQHPGQQRQRVLIGRYTTSSLL",
         "IIIIIIIIIIIIIIIIIIIIIIIIIIIIIIIIIIIIIIIIIIIIIIIIIIIIIIIIIIIIIIIIIIIIII"
        ],
        [
         "3",
         "P55317",
         "EUKARYA",
         "NO_SP",
         "MLGTVKMEGHETSDWNSYYADTQEAYSSVPVSNMNSGLGSMNSMNTYMTMNTMTTSGNMTPASFNMSYAN",
         "IIIIIIIIIIIIIIIIIIIIIIIIIIIIIIIIIIIIIIIIIIIIIIIIIIIIIIIIIIIIIIIIIIIIII"
        ],
        [
         "4",
         "P35583",
         "EUKARYA",
         "NO_SP",
         "MLGAVKMEGHEPSDWSSYYAEPEGYSSVSNMNAGLGMNGMNTYMSMSAAAMGGGSGNMSAGSMNMSSYVG",
         "IIIIIIIIIIIIIIIIIIIIIIIIIIIIIIIIIIIIIIIIIIIIIIIIIIIIIIIIIIIIIIIIIIIIII"
        ]
       ],
       "shape": {
        "columns": 5,
        "rows": 5
       }
      },
      "text/html": [
       "<div>\n",
       "<style scoped>\n",
       "    .dataframe tbody tr th:only-of-type {\n",
       "        vertical-align: middle;\n",
       "    }\n",
       "\n",
       "    .dataframe tbody tr th {\n",
       "        vertical-align: top;\n",
       "    }\n",
       "\n",
       "    .dataframe thead th {\n",
       "        text-align: right;\n",
       "    }\n",
       "</style>\n",
       "<table border=\"1\" class=\"dataframe\">\n",
       "  <thead>\n",
       "    <tr style=\"text-align: right;\">\n",
       "      <th></th>\n",
       "      <th>uniprot_ac</th>\n",
       "      <th>kingdom</th>\n",
       "      <th>type</th>\n",
       "      <th>sequence</th>\n",
       "      <th>label</th>\n",
       "    </tr>\n",
       "  </thead>\n",
       "  <tbody>\n",
       "    <tr>\n",
       "      <th>0</th>\n",
       "      <td>Q8TF40</td>\n",
       "      <td>EUKARYA</td>\n",
       "      <td>NO_SP</td>\n",
       "      <td>MAPTLFQKLFSKRTGLGAPGRDARDPDCGFSWPLPEFDPSQIRLIV...</td>\n",
       "      <td>IIIIIIIIIIIIIIIIIIIIIIIIIIIIIIIIIIIIIIIIIIIIII...</td>\n",
       "    </tr>\n",
       "    <tr>\n",
       "      <th>1</th>\n",
       "      <td>Q1ENB6</td>\n",
       "      <td>EUKARYA</td>\n",
       "      <td>NO_SP</td>\n",
       "      <td>MDFTSLETTTFEEVVIALGSNVGNRMNNFKEALRLMKDYGISVTRH...</td>\n",
       "      <td>IIIIIIIIIIIIIIIIIIIIIIIIIIIIIIIIIIIIIIIIIIIIII...</td>\n",
       "    </tr>\n",
       "    <tr>\n",
       "      <th>2</th>\n",
       "      <td>P36001</td>\n",
       "      <td>EUKARYA</td>\n",
       "      <td>NO_SP</td>\n",
       "      <td>MDDISGRQTLPRINRLLEHVGNPQDSLSILHIAGTNGKETVSKFLT...</td>\n",
       "      <td>IIIIIIIIIIIIIIIIIIIIIIIIIIIIIIIIIIIIIIIIIIIIII...</td>\n",
       "    </tr>\n",
       "    <tr>\n",
       "      <th>3</th>\n",
       "      <td>P55317</td>\n",
       "      <td>EUKARYA</td>\n",
       "      <td>NO_SP</td>\n",
       "      <td>MLGTVKMEGHETSDWNSYYADTQEAYSSVPVSNMNSGLGSMNSMNT...</td>\n",
       "      <td>IIIIIIIIIIIIIIIIIIIIIIIIIIIIIIIIIIIIIIIIIIIIII...</td>\n",
       "    </tr>\n",
       "    <tr>\n",
       "      <th>4</th>\n",
       "      <td>P35583</td>\n",
       "      <td>EUKARYA</td>\n",
       "      <td>NO_SP</td>\n",
       "      <td>MLGAVKMEGHEPSDWSSYYAEPEGYSSVSNMNAGLGMNGMNTYMSM...</td>\n",
       "      <td>IIIIIIIIIIIIIIIIIIIIIIIIIIIIIIIIIIIIIIIIIIIIII...</td>\n",
       "    </tr>\n",
       "  </tbody>\n",
       "</table>\n",
       "</div>"
      ],
      "text/plain": [
       "  uniprot_ac  kingdom   type  \\\n",
       "0     Q8TF40  EUKARYA  NO_SP   \n",
       "1     Q1ENB6  EUKARYA  NO_SP   \n",
       "2     P36001  EUKARYA  NO_SP   \n",
       "3     P55317  EUKARYA  NO_SP   \n",
       "4     P35583  EUKARYA  NO_SP   \n",
       "\n",
       "                                            sequence  \\\n",
       "0  MAPTLFQKLFSKRTGLGAPGRDARDPDCGFSWPLPEFDPSQIRLIV...   \n",
       "1  MDFTSLETTTFEEVVIALGSNVGNRMNNFKEALRLMKDYGISVTRH...   \n",
       "2  MDDISGRQTLPRINRLLEHVGNPQDSLSILHIAGTNGKETVSKFLT...   \n",
       "3  MLGTVKMEGHETSDWNSYYADTQEAYSSVPVSNMNSGLGSMNSMNT...   \n",
       "4  MLGAVKMEGHEPSDWSSYYAEPEGYSSVSNMNAGLGMNGMNTYMSM...   \n",
       "\n",
       "                                               label  \n",
       "0  IIIIIIIIIIIIIIIIIIIIIIIIIIIIIIIIIIIIIIIIIIIIII...  \n",
       "1  IIIIIIIIIIIIIIIIIIIIIIIIIIIIIIIIIIIIIIIIIIIIII...  \n",
       "2  IIIIIIIIIIIIIIIIIIIIIIIIIIIIIIIIIIIIIIIIIIIIII...  \n",
       "3  IIIIIIIIIIIIIIIIIIIIIIIIIIIIIIIIIIIIIIIIIIIIII...  \n",
       "4  IIIIIIIIIIIIIIIIIIIIIIIIIIIIIIIIIIIIIIIIIIIIII...  "
      ]
     },
     "execution_count": 37,
     "metadata": {},
     "output_type": "execute_result"
    }
   ],
   "source": [
    "import pandas as pd\n",
    "\n",
    "records = []  # uniprot_ac, kingdom, type_, sequence, label\n",
    "with open(\"/Users/jonas/Desktop/Uni/PBL/data/complete_set_unpartitioned.fasta\", \"r\") as f:\n",
    "    current_record = None\n",
    "    for line in f:\n",
    "        if line.startswith(\">\"):\n",
    "            if current_record is not None:\n",
    "                if current_record[\"sequence\"] is not None and current_record[\"label\"] is not None:\n",
    "                    # Save the previous record before starting a new one\n",
    "                    records.append(current_record)\n",
    "                else:\n",
    "                    # If the previous record is incomplete, skip it\n",
    "                    print(\"Skipping incomplete record:\", current_record)\n",
    "            # Start a new record\n",
    "            uniprot_ac, kingdom, type_ = line[1:].strip().split(\"|\")\n",
    "            current_record = {\"uniprot_ac\": uniprot_ac, \"kingdom\": kingdom, \"type\": type_, \"sequence\": None, \"label\": None}\n",
    "        else:\n",
    "            # Check if the line contains a sequence or a label\n",
    "            if current_record[\"sequence\"] is None:\n",
    "                current_record[\"sequence\"] = line.strip()\n",
    "            elif current_record[\"label\"] is None:\n",
    "                current_record[\"label\"] = line.strip()\n",
    "            else:\n",
    "                # If both sequence and label are already set, skip this line\n",
    "                print(\"Skipping extra line in record:\", current_record)\n",
    "    # Save the last record if it's complete\n",
    "    if current_record is not None:\n",
    "        if current_record[\"sequence\"] is not None and current_record[\"label\"] is not None:\n",
    "            records.append(current_record)\n",
    "        else:\n",
    "            print(\"Skipping incomplete record:\", current_record)\n",
    "\n",
    "\"\"\"\n",
    "# Save the DataFrame to a CSV file\n",
    "df_raw.to_csv(\"/Users/jonas/Desktop/Uni/PBL/data/complete_set_unpartitioned.csv\", index=False)\n",
    "\"\"\"\n",
    "# Print the number of records\n",
    "print(f\"Total records: {len(records)}\")\n",
    "df_raw = pd.DataFrame(records)\n",
    "df_raw.head()\n"
   ]
  },
  {
   "cell_type": "code",
   "execution_count": 38,
   "id": "f89f4952",
   "metadata": {},
   "outputs": [
    {
     "data": {
      "application/vnd.microsoft.datawrangler.viewer.v0+json": {
       "columns": [
        {
         "name": "index",
         "rawType": "object",
         "type": "string"
        },
        {
         "name": "uniprot_ac",
         "rawType": "object",
         "type": "unknown"
        },
        {
         "name": "kingdom",
         "rawType": "object",
         "type": "unknown"
        },
        {
         "name": "type",
         "rawType": "object",
         "type": "unknown"
        },
        {
         "name": "sequence",
         "rawType": "object",
         "type": "unknown"
        },
        {
         "name": "label",
         "rawType": "object",
         "type": "unknown"
        }
       ],
       "ref": "b4f3bcd9-4b01-48d3-8838-8eb7fd0f9730",
       "rows": [
        [
         "count",
         "25580",
         "25580",
         "25580",
         "25580",
         "25580"
        ],
        [
         "unique",
         "25580",
         "4",
         "5",
         "24367",
         "1878"
        ],
        [
         "top",
         "Q8TF40",
         "EUKARYA",
         "NO_SP",
         "MKLSRRSFMKANAVAAAAAAAGLSVPGVARAVVGQQEAIKWDKAPCRFCGTGCGVLVGTQQGRVVACQGD",
         "IIIIIIIIIIIIIIIIIIIIIIIIIIIIIIIIIIIIIIIIIIIIIIIIIIIIIIIIIIIIIIIIIIIIII"
        ],
        [
         "freq",
         "1",
         "20423",
         "19036",
         "41",
         "16382"
        ]
       ],
       "shape": {
        "columns": 5,
        "rows": 4
       }
      },
      "text/html": [
       "<div>\n",
       "<style scoped>\n",
       "    .dataframe tbody tr th:only-of-type {\n",
       "        vertical-align: middle;\n",
       "    }\n",
       "\n",
       "    .dataframe tbody tr th {\n",
       "        vertical-align: top;\n",
       "    }\n",
       "\n",
       "    .dataframe thead th {\n",
       "        text-align: right;\n",
       "    }\n",
       "</style>\n",
       "<table border=\"1\" class=\"dataframe\">\n",
       "  <thead>\n",
       "    <tr style=\"text-align: right;\">\n",
       "      <th></th>\n",
       "      <th>uniprot_ac</th>\n",
       "      <th>kingdom</th>\n",
       "      <th>type</th>\n",
       "      <th>sequence</th>\n",
       "      <th>label</th>\n",
       "    </tr>\n",
       "  </thead>\n",
       "  <tbody>\n",
       "    <tr>\n",
       "      <th>count</th>\n",
       "      <td>25580</td>\n",
       "      <td>25580</td>\n",
       "      <td>25580</td>\n",
       "      <td>25580</td>\n",
       "      <td>25580</td>\n",
       "    </tr>\n",
       "    <tr>\n",
       "      <th>unique</th>\n",
       "      <td>25580</td>\n",
       "      <td>4</td>\n",
       "      <td>5</td>\n",
       "      <td>24367</td>\n",
       "      <td>1878</td>\n",
       "    </tr>\n",
       "    <tr>\n",
       "      <th>top</th>\n",
       "      <td>Q8TF40</td>\n",
       "      <td>EUKARYA</td>\n",
       "      <td>NO_SP</td>\n",
       "      <td>MKLSRRSFMKANAVAAAAAAAGLSVPGVARAVVGQQEAIKWDKAPC...</td>\n",
       "      <td>IIIIIIIIIIIIIIIIIIIIIIIIIIIIIIIIIIIIIIIIIIIIII...</td>\n",
       "    </tr>\n",
       "    <tr>\n",
       "      <th>freq</th>\n",
       "      <td>1</td>\n",
       "      <td>20423</td>\n",
       "      <td>19036</td>\n",
       "      <td>41</td>\n",
       "      <td>16382</td>\n",
       "    </tr>\n",
       "  </tbody>\n",
       "</table>\n",
       "</div>"
      ],
      "text/plain": [
       "       uniprot_ac  kingdom   type  \\\n",
       "count       25580    25580  25580   \n",
       "unique      25580        4      5   \n",
       "top        Q8TF40  EUKARYA  NO_SP   \n",
       "freq            1    20423  19036   \n",
       "\n",
       "                                                 sequence  \\\n",
       "count                                               25580   \n",
       "unique                                              24367   \n",
       "top     MKLSRRSFMKANAVAAAAAAAGLSVPGVARAVVGQQEAIKWDKAPC...   \n",
       "freq                                                   41   \n",
       "\n",
       "                                                    label  \n",
       "count                                               25580  \n",
       "unique                                               1878  \n",
       "top     IIIIIIIIIIIIIIIIIIIIIIIIIIIIIIIIIIIIIIIIIIIIII...  \n",
       "freq                                                16382  "
      ]
     },
     "execution_count": 38,
     "metadata": {},
     "output_type": "execute_result"
    }
   ],
   "source": [
    "df = df_raw[~df_raw[\"label\"].str.contains(\"P\")]\n",
    "df.describe()"
   ]
  },
  {
   "cell_type": "code",
   "execution_count": 39,
   "id": "568deead",
   "metadata": {},
   "outputs": [
    {
     "data": {
      "application/vnd.microsoft.datawrangler.viewer.v0+json": {
       "columns": [
        {
         "name": "index",
         "rawType": "object",
         "type": "string"
        },
        {
         "name": "uniprot_ac",
         "rawType": "object",
         "type": "unknown"
        },
        {
         "name": "kingdom",
         "rawType": "object",
         "type": "unknown"
        },
        {
         "name": "type",
         "rawType": "object",
         "type": "unknown"
        },
        {
         "name": "sequence",
         "rawType": "object",
         "type": "unknown"
        },
        {
         "name": "label",
         "rawType": "object",
         "type": "unknown"
        }
       ],
       "ref": "b67de245-6804-4348-a79c-8b837e370c62",
       "rows": [
        [
         "count",
         "25580",
         "25580",
         "25580",
         "25580",
         "25580"
        ],
        [
         "unique",
         "25580",
         "4",
         "5",
         "24367",
         "1878"
        ],
        [
         "top",
         "Q8TF40",
         "EUKARYA",
         "NO_SP",
         "MKLSRRSFMKANAVAAAAAAAGLSVPGVARAVVGQQEAIKWDKAPCRFCGTGCGVLVGTQQGRVVACQGD",
         "[3, 3, 3, 3, 3, 3, 3, 3, 3, 3, 3, 3, 3, 3, 3, 3, 3, 3, 3, 3, 3, 3, 3, 3, 3, 3, 3, 3, 3, 3, 3, 3, 3, 3, 3, 3, 3, 3, 3, 3, 3, 3, 3, 3, 3, 3, 3, 3, 3, 3, 3, 3, 3, 3, 3, 3, 3, 3, 3, 3, 3, 3, 3, 3, 3, 3, 3, 3, 3, 3]"
        ],
        [
         "freq",
         "1",
         "20423",
         "19036",
         "41",
         "16382"
        ]
       ],
       "shape": {
        "columns": 5,
        "rows": 4
       }
      },
      "text/html": [
       "<div>\n",
       "<style scoped>\n",
       "    .dataframe tbody tr th:only-of-type {\n",
       "        vertical-align: middle;\n",
       "    }\n",
       "\n",
       "    .dataframe tbody tr th {\n",
       "        vertical-align: top;\n",
       "    }\n",
       "\n",
       "    .dataframe thead th {\n",
       "        text-align: right;\n",
       "    }\n",
       "</style>\n",
       "<table border=\"1\" class=\"dataframe\">\n",
       "  <thead>\n",
       "    <tr style=\"text-align: right;\">\n",
       "      <th></th>\n",
       "      <th>uniprot_ac</th>\n",
       "      <th>kingdom</th>\n",
       "      <th>type</th>\n",
       "      <th>sequence</th>\n",
       "      <th>label</th>\n",
       "    </tr>\n",
       "  </thead>\n",
       "  <tbody>\n",
       "    <tr>\n",
       "      <th>count</th>\n",
       "      <td>25580</td>\n",
       "      <td>25580</td>\n",
       "      <td>25580</td>\n",
       "      <td>25580</td>\n",
       "      <td>25580</td>\n",
       "    </tr>\n",
       "    <tr>\n",
       "      <th>unique</th>\n",
       "      <td>25580</td>\n",
       "      <td>4</td>\n",
       "      <td>5</td>\n",
       "      <td>24367</td>\n",
       "      <td>1878</td>\n",
       "    </tr>\n",
       "    <tr>\n",
       "      <th>top</th>\n",
       "      <td>Q8TF40</td>\n",
       "      <td>EUKARYA</td>\n",
       "      <td>NO_SP</td>\n",
       "      <td>MKLSRRSFMKANAVAAAAAAAGLSVPGVARAVVGQQEAIKWDKAPC...</td>\n",
       "      <td>[3, 3, 3, 3, 3, 3, 3, 3, 3, 3, 3, 3, 3, 3, 3, ...</td>\n",
       "    </tr>\n",
       "    <tr>\n",
       "      <th>freq</th>\n",
       "      <td>1</td>\n",
       "      <td>20423</td>\n",
       "      <td>19036</td>\n",
       "      <td>41</td>\n",
       "      <td>16382</td>\n",
       "    </tr>\n",
       "  </tbody>\n",
       "</table>\n",
       "</div>"
      ],
      "text/plain": [
       "       uniprot_ac  kingdom   type  \\\n",
       "count       25580    25580  25580   \n",
       "unique      25580        4      5   \n",
       "top        Q8TF40  EUKARYA  NO_SP   \n",
       "freq            1    20423  19036   \n",
       "\n",
       "                                                 sequence  \\\n",
       "count                                               25580   \n",
       "unique                                              24367   \n",
       "top     MKLSRRSFMKANAVAAAAAAAGLSVPGVARAVVGQQEAIKWDKAPC...   \n",
       "freq                                                   41   \n",
       "\n",
       "                                                    label  \n",
       "count                                               25580  \n",
       "unique                                               1878  \n",
       "top     [3, 3, 3, 3, 3, 3, 3, 3, 3, 3, 3, 3, 3, 3, 3, ...  \n",
       "freq                                                16382  "
      ]
     },
     "execution_count": 39,
     "metadata": {},
     "output_type": "execute_result"
    }
   ],
   "source": [
    "label_map = {'S': 0, 'T': 1, 'L': 2, 'I': 3, 'M': 4, 'O': 5}\n",
    "\n",
    "df_encoded = df.copy()\n",
    "df_encoded[\"label\"] = df_encoded[\"label\"].apply(lambda x: [label_map[c] for c in x if c in label_map])\n",
    "df_encoded = df_encoded[df_encoded[\"label\"].map(len) > 0]  # Remove rows with empty label lists\n",
    "\n",
    "# make random smaller dataset\n",
    "#df_encoded = df_encoded.sample(frac=0.4, random_state=42)\n",
    "\n",
    "sequences = df_encoded[\"sequence\"].tolist()\n",
    "label_seqs = df_encoded[\"label\"].tolist()\n",
    "\n",
    "df_encoded.describe()\n"
   ]
  },
  {
   "cell_type": "code",
   "execution_count": 40,
   "id": "e5bfa5c3",
   "metadata": {},
   "outputs": [
    {
     "data": {
      "text/plain": [
       "BertModel(\n",
       "  (embeddings): BertEmbeddings(\n",
       "    (word_embeddings): Embedding(30, 1024, padding_idx=0)\n",
       "    (position_embeddings): Embedding(40000, 1024)\n",
       "    (token_type_embeddings): Embedding(2, 1024)\n",
       "    (LayerNorm): LayerNorm((1024,), eps=1e-12, elementwise_affine=True)\n",
       "    (dropout): Dropout(p=0.0, inplace=False)\n",
       "  )\n",
       "  (encoder): BertEncoder(\n",
       "    (layer): ModuleList(\n",
       "      (0-29): 30 x BertLayer(\n",
       "        (attention): BertAttention(\n",
       "          (self): BertSdpaSelfAttention(\n",
       "            (query): Linear(in_features=1024, out_features=1024, bias=True)\n",
       "            (key): Linear(in_features=1024, out_features=1024, bias=True)\n",
       "            (value): Linear(in_features=1024, out_features=1024, bias=True)\n",
       "            (dropout): Dropout(p=0.0, inplace=False)\n",
       "          )\n",
       "          (output): BertSelfOutput(\n",
       "            (dense): Linear(in_features=1024, out_features=1024, bias=True)\n",
       "            (LayerNorm): LayerNorm((1024,), eps=1e-12, elementwise_affine=True)\n",
       "            (dropout): Dropout(p=0.0, inplace=False)\n",
       "          )\n",
       "        )\n",
       "        (intermediate): BertIntermediate(\n",
       "          (dense): Linear(in_features=1024, out_features=4096, bias=True)\n",
       "          (intermediate_act_fn): GELUActivation()\n",
       "        )\n",
       "        (output): BertOutput(\n",
       "          (dense): Linear(in_features=4096, out_features=1024, bias=True)\n",
       "          (LayerNorm): LayerNorm((1024,), eps=1e-12, elementwise_affine=True)\n",
       "          (dropout): Dropout(p=0.0, inplace=False)\n",
       "        )\n",
       "      )\n",
       "    )\n",
       "  )\n",
       "  (pooler): BertPooler(\n",
       "    (dense): Linear(in_features=1024, out_features=1024, bias=True)\n",
       "    (activation): Tanh()\n",
       "  )\n",
       ")"
      ]
     },
     "execution_count": 40,
     "metadata": {},
     "output_type": "execute_result"
    }
   ],
   "source": [
    "# Load tokenizer and model\n",
    "tokenizer = BertTokenizer.from_pretrained(MODEL_NAME, do_lower_case=False)\n",
    "encoder = BertModel.from_pretrained(MODEL_NAME)\n",
    "encoder.to(DEVICE)"
   ]
  },
  {
   "cell_type": "code",
   "execution_count": 41,
   "id": "0dcdebd8",
   "metadata": {},
   "outputs": [],
   "source": [
    "# Stratify by sequence length to avoid ValueError\n",
    "train_seqs, test_seqs, train_label_seqs, test_label_seqs = train_test_split(\n",
    "    sequences, label_seqs, test_size=0.3, random_state=42\n",
    ")"
   ]
  },
  {
   "cell_type": "code",
   "execution_count": 42,
   "id": "44ab5146",
   "metadata": {},
   "outputs": [],
   "source": [
    "# Load the data \n",
    "class SPDataset(Dataset):\n",
    "    def __init__(self, sequences, label_seqs, label_map):\n",
    "        self.label_map = label_map\n",
    "        self.label_seqs = label_seqs\n",
    "        self.sequences = sequences\n",
    "\n",
    "    def __len__(self):\n",
    "        return len(self.sequences)\n",
    "\n",
    "    def __getitem__(self, idx):\n",
    "        seq = self.sequences[idx]\n",
    "        # preprocess the sequence (insert spaces between amino acids)\n",
    "        seq_processed = \" \".join(list(seq))\n",
    "        labels = self.label_seqs[idx]\n",
    "        # Tokenize the sequence (padding to ensure all sequences are the same length -> 512 tokens) \n",
    "        encoded = tokenizer(seq_processed, return_tensors=\"pt\",\n",
    "                            padding=\"max_length\", truncation=True, max_length=512)\n",
    "        input_ids = encoded['input_ids'].squeeze(0)\n",
    "        attention_mask = encoded['attention_mask'].squeeze(0)\n",
    "        \n",
    "        # Build a label tensor of the same length as input_ids.\n",
    "        # For tokens beyond the original sequence length, assign -100 so that loss func ignores them.\n",
    "        orig_length = len(seq)\n",
    "        token_labels = []\n",
    "        \n",
    "        for i in range(input_ids.size(0)):\n",
    "            if i == 0 or i > orig_length:  \n",
    "                token_labels.append(-100)  # ignore padding tokens\n",
    "            else:\n",
    "                # Use the already encoded label directly\n",
    "                token_labels.append(labels[i-1])\n",
    "        labels_tensor = torch.tensor(token_labels)\n",
    "        \n",
    "        return {\n",
    "            'input_ids': input_ids, # tokenized and padded \n",
    "            'attention_mask': attention_mask, # differentiate between padding and non-padding tokens\n",
    "            'labels': labels_tensor # aligned label tensor\n",
    "        }\n",
    "\n",
    "train_dataset = SPDataset(train_seqs, train_label_seqs, label_map)\n",
    "test_dataset = SPDataset(test_seqs, test_label_seqs, label_map)\n",
    "\n",
    "train_loader = DataLoader(train_dataset, batch_size=BATCH_SIZE, shuffle=True)\n",
    "test_loader = DataLoader(test_dataset, batch_size=BATCH_SIZE)"
   ]
  },
  {
   "cell_type": "code",
   "execution_count": null,
   "id": "bd916c0f",
   "metadata": {},
   "outputs": [],
   "source": [
    "import torch\n",
    "import torch.nn as nn\n",
    "import torch.nn.functional as F\n",
    "\n",
    "class SPCNNClassifier(nn.Module):\n",
    "    def __init__(self, encoder_model):\n",
    "        super().__init__()\n",
    "        self.encoder = encoder_model  # encoder: ProtBERT model\n",
    "        self.dropout = nn.Dropout(0.2)\n",
    "        hidden_size = self.encoder.config.hidden_size\n",
    "        # First convolution: map features to 1024 channels\n",
    "        self.conv1 = nn.Conv1d(in_channels=hidden_size, out_channels=1024, kernel_size=6, dilation=2, padding=5)\n",
    "        # Second convolution: map features to the 6 classes for each token\n",
    "        self.conv2 = nn.Conv1d(in_channels=1024, out_channels=NUM_CLASSES, kernel_size=3, dilation=2, padding=2)\n",
    "        # Linear classifier applied on the conv1 output for token-level classification\n",
    "        self.classifier = nn.Linear(1024, NUM_CLASSES)\n",
    "        \n",
    "\n",
    "    def forward(self, input_ids, attention_mask):\n",
    "        encoder_output = self.encoder(input_ids=input_ids, attention_mask=attention_mask)\n",
    "        hidden_states = encoder_output.last_hidden_state  # shape: (batch, seq_len, hidden_size)\n",
    "        \n",
    "        # Transpose to (batch, hidden_size, seq_len) for 1D conv\n",
    "        x = hidden_states.transpose(1, 2)\n",
    "        \n",
    "        # First convolution and activation\n",
    "        x_conv1 = F.relu(self.conv1(x))  # shape: (batch, 1024, seq_len)\n",
    "        \n",
    "        # Convolutional head\n",
    "        x_conv2 = self.conv2(x_conv1)  # shape: (batch, NUM_CLASSES, seq_len)\n",
    "        x_conv2 = x_conv2.transpose(1, 2)  # shape: (batch, seq_len, NUM_CLASSES)\n",
    "        \n",
    "        # Linear head: apply classifier on each token representation from conv1 output\n",
    "        x_linear = self.classifier(x_conv1.transpose(1, 2))  # shape: (batch, seq_len, NUM_CLASSES)\n",
    "        \n",
    "        # Addition of both classifier outputs\n",
    "        x_out = self.dropout(x_conv2 + x_linear)  # shape: (batch, seq_len, NUM_CLASSES)\n",
    "        return x_out"
   ]
  },
  {
   "cell_type": "code",
   "execution_count": 44,
   "id": "76a7bd31",
   "metadata": {},
   "outputs": [],
   "source": [
    "from transformers import get_linear_schedule_with_warmup\n",
    "\n",
    "# Initialize the model\n",
    "model = SPCNNClassifier(encoder).to(DEVICE)\n",
    "\n",
    "# optimizer and Loss\n",
    "optimizer = torch.optim.AdamW(\n",
    "    model.parameters(),\n",
    "    lr=LR,           # Learning rate\n",
    "    betas=(0.85, 0.999),  # momentum, can overshoot \n",
    "    eps=1e-6,          # epsilon\n",
    "    weight_decay=0.01  # regularization to prevent overfitting\n",
    ")\n",
    "\n",
    "# scheduler for learning rate\n",
    "scheduler = get_linear_schedule_with_warmup(\n",
    "    optimizer,\n",
    "    num_warmup_steps=100,\n",
    "    num_training_steps=len(train_loader) * EPOCHS\n",
    ")\n",
    "\n",
    "# Counter({'I': 1204001, 'O': 362643, 'S': 85526, 'M': 74445, 'L': 46065, 'T': 22272, 'P': 951})\n",
    "class_counts = [1204001, 85526, 22272, 46865, 74445, 362643]  # Count for each class (I, S, T, L, M, O)\n",
    "# hopefully deals with the class imbalance\n",
    "weights = torch.tensor([1.0 / count for count in class_counts], device=DEVICE)\n",
    "\n",
    "# loss function that ignores the padding tokens (-100)\n",
    "loss_fn = nn.CrossEntropyLoss(weight=weights, ignore_index=-100)"
   ]
  },
  {
   "cell_type": "code",
   "execution_count": 45,
   "id": "0a9e146b",
   "metadata": {},
   "outputs": [],
   "source": [
    "# Compute sequence-level accuracy, skipping -100 (ignored) positions\n",
    "def sequence_level_accuracy(preds_flat, labels_flat, test_label_seqs):\n",
    "    # Step 1: Reconstruct sequence-wise predictions and labels\n",
    "    seq_lengths = [len(seq) for seq in test_label_seqs]\n",
    "    preds_seq = []\n",
    "    labels_seq = []\n",
    "    idx = 0\n",
    "    for l in seq_lengths:\n",
    "        preds_seq.append(preds_flat[idx:idx+l])\n",
    "        labels_seq.append(labels_flat[idx:idx+l])\n",
    "        idx += l\n",
    "\n",
    "    # Step 2: Compute sequence-level accuracy using is_valid variable\n",
    "    correct = 0\n",
    "    for pred, label in zip(preds_seq, labels_seq):\n",
    "        is_valid = [l != -100 for l in label]\n",
    "        valid_preds = [p for p, valid in zip(pred, is_valid) if valid]\n",
    "        valid_labels = [l for l, valid in zip(label, is_valid) if valid]\n",
    "        if valid_preds == valid_labels:\n",
    "            correct += 1\n",
    "\n",
    "    total = len(seq_lengths)\n",
    "    return correct / total if total > 0 else 0.0\n"
   ]
  },
  {
   "cell_type": "code",
   "execution_count": 46,
   "id": "7a9e3006",
   "metadata": {},
   "outputs": [],
   "source": [
    "import torch\n",
    "import numpy as np\n",
    "from tqdm import tqdm\n",
    "from sklearn.metrics import accuracy_score, classification_report\n",
    "from sklearn.metrics import matthews_corrcoef\n",
    "\n",
    "def evaluate_model(model, data_loader, loss_fn, test_label_seqs):\n",
    "    model.eval()\n",
    "    total_loss = 0.0\n",
    "    all_preds = []\n",
    "    all_labels = []\n",
    "    for batch in tqdm(data_loader, desc=\"Evaluation\", leave=False):\n",
    "        input_ids = batch['input_ids'].to(DEVICE)\n",
    "        attention_mask = batch['attention_mask'].to(DEVICE)\n",
    "        labels = batch['labels'].to(DEVICE)\n",
    "\n",
    "        logits = model(input_ids, attention_mask)\n",
    "        loss = loss_fn(logits.reshape(-1, NUM_CLASSES), labels.reshape(-1))\n",
    "        total_loss += loss.item()\n",
    "\n",
    "        preds = torch.argmax(logits, dim=-1)\n",
    "        # Flatten and filter out padding tokens (-100)\n",
    "        preds_flat = preds.view(-1)\n",
    "        labels_flat = labels.view(-1)\n",
    "        valid_idx = labels_flat != -100\n",
    "        all_preds.extend(preds_flat[valid_idx].cpu().numpy())\n",
    "        all_labels.extend(labels_flat[valid_idx].cpu().numpy())\n",
    "    avg_loss = total_loss / len(data_loader)\n",
    "    acc = accuracy_score(all_labels, all_preds)\n",
    "    report = classification_report(all_labels, all_preds, target_names=list(label_map.keys()))\n",
    "    \n",
    "    try:\n",
    "        mcc = matthews_corrcoef(all_labels, all_preds)\n",
    "    except ImportError:\n",
    "        mcc = None\n",
    "\n",
    "    print(\"Classification Report:\")\n",
    "    print(report)\n",
    "    print(f\"Average Loss: {avg_loss:.4f}\")\n",
    "    print(f\"Token-level Accuracy: {acc:.4f}\")\n",
    "    print(f\"Matthews Correlation Coefficient (MCC): {mcc if mcc is not None else 'N/A'}\")\n",
    "    \n",
    "    # Compute sequence-level accuracy if the function is defined\n",
    "    try:\n",
    "        seq_acc_val = sequence_level_accuracy(all_preds, all_labels, test_label_seqs)\n",
    "        print(f\"Sequence Level Accuracy: {seq_acc_val:.4f}\")\n",
    "    except Exception as e:\n",
    "        seq_acc_val = None\n",
    "        print(\"Sequence Level Accuracy could not be computed:\", e)\n",
    "    \n",
    "    return avg_loss, acc, mcc, seq_acc_val\n"
   ]
  },
  {
   "cell_type": "code",
   "execution_count": 47,
   "id": "5623585a",
   "metadata": {},
   "outputs": [
    {
     "name": "stderr",
     "output_type": "stream",
     "text": [
      "Epoch 1/4: 100%|██████████| 309/309 [36:17<00:00,  7.05s/batch, loss=0.178]\n"
     ]
    },
    {
     "name": "stdout",
     "output_type": "stream",
     "text": [
      "Epoch 1, Loss: 0.3182\n"
     ]
    },
    {
     "name": "stderr",
     "output_type": "stream",
     "text": [
      "Epoch 2/4: 100%|██████████| 309/309 [36:04<00:00,  7.00s/batch, loss=0.183]\n"
     ]
    },
    {
     "name": "stdout",
     "output_type": "stream",
     "text": [
      "Epoch 2, Loss: 0.2007\n"
     ]
    },
    {
     "name": "stderr",
     "output_type": "stream",
     "text": [
      "Epoch 3/4: 100%|██████████| 309/309 [36:00<00:00,  6.99s/batch, loss=0.173]\n"
     ]
    },
    {
     "name": "stdout",
     "output_type": "stream",
     "text": [
      "Epoch 3, Loss: 0.1905\n"
     ]
    },
    {
     "name": "stderr",
     "output_type": "stream",
     "text": [
      "Epoch 4/4: 100%|██████████| 309/309 [36:01<00:00,  7.00s/batch, loss=0.235]"
     ]
    },
    {
     "name": "stdout",
     "output_type": "stream",
     "text": [
      "Epoch 4, Loss: 0.1830\n"
     ]
    },
    {
     "name": "stderr",
     "output_type": "stream",
     "text": [
      "\n"
     ]
    }
   ],
   "source": [
    "from torch.utils.tensorboard import SummaryWriter\n",
    "from sklearn.metrics import accuracy_score\n",
    "from tqdm import tqdm\n",
    "\n",
    "writer = SummaryWriter(log_dir=\"/Users/jonas/Desktop/Uni/PBL/logs/prot_bert_linear_classifier_v2\")\n",
    "\n",
    "for param in model.encoder.parameters():\n",
    "    param.requires_grad = False\n",
    "\n",
    "for epoch in range(EPOCHS):\n",
    "\n",
    "    model.train()\n",
    "\n",
    "    # Gradually unfreeze only a subset of encoder layers for efficiency\n",
    "    if epoch == 4:\n",
    "        # Unfreeze only the last encoder layer\n",
    "        for param in model.encoder.encoder.layer[-1].parameters():\n",
    "            param.requires_grad = True\n",
    "    elif epoch == 7:\n",
    "        # Optionally unfreeze one more layer rather than the full encoder\n",
    "        for param in model.encoder.encoder.layer[-2].parameters():\n",
    "            param.requires_grad = True\n",
    "\n",
    "    # progress bar\n",
    "    pbar = tqdm(train_loader, desc=f\"Epoch {epoch+1}/{EPOCHS}\", unit=\"batch\")\n",
    "    total_loss = 0 # total epoch loss\n",
    "\n",
    "    for batch in pbar:\n",
    "        input_ids = batch['input_ids'].to(DEVICE)\n",
    "        attention_mask = batch['attention_mask'].to(DEVICE)\n",
    "        token_labels = batch['labels'].to(DEVICE)\n",
    "\n",
    "        optimizer.zero_grad()  # resets gradients\n",
    "        logits = model(input_ids, attention_mask)  # forward pass\n",
    "        loss = loss_fn(logits.reshape(-1, NUM_CLASSES), token_labels.reshape(-1)) # flatten logits and labels and compute loss\n",
    "        loss.backward()  # backpropagation\n",
    "        optimizer.step()  # update weights with optimizer\n",
    "        scheduler.step() # update learning rate\n",
    "\n",
    "        total_loss += loss.item()\n",
    "        pbar.set_postfix(loss=loss.item())\n",
    "\n",
    "    avg_train_loss = total_loss / len(train_loader)\n",
    "    print(f\"Epoch {epoch+1}, Loss: {avg_train_loss:.4f}\")\n",
    "    writer.add_scalar(\"Loss/train\", avg_train_loss, epoch)\n",
    "\n",
    "    \"\"\"\n",
    "    eval_loss, eval_acc, eval_mcc, seq_acc_val = evaluate_model(model, test_loader, loss_fn, test_label_seqs)\n",
    "    writer.add_scalar(\"Loss/eval\", eval_loss, epoch)\n",
    "    writer.add_scalar(\"Accuracy/eval\", eval_acc, epoch)\n",
    "    writer.add_scalar(\"MCC/eval\", eval_mcc, epoch)\n",
    "    writer.add_scalar(\"Sequence_Accuracy/eval\", seq_acc_val, epoch)\n",
    "    print(f\"Epoch {epoch+1}, Eval Loss: {eval_loss:.4f}, Eval Accuracy: {eval_acc:.4f}, Eval MCC: {eval_mcc:.4f}, Sequence Level Accuracy: {seq_acc_val:.4f}\")\n",
    "    \"\"\"\n",
    "    \n",
    "\n"
   ]
  },
  {
   "cell_type": "code",
   "execution_count": null,
   "id": "6707d9f7",
   "metadata": {},
   "outputs": [
    {
     "name": "stdout",
     "output_type": "stream",
     "text": [
      "Classification Report:\n",
      "              precision    recall  f1-score   support\n",
      "\n",
      "           S       0.98      0.70      0.81     25619\n",
      "           T       0.90      0.95      0.93      6739\n",
      "           L       0.75      0.98      0.85     14328\n",
      "           I       0.94      0.99      0.97    358968\n",
      "           M       0.81      0.87      0.84     21858\n",
      "           O       0.98      0.81      0.88    108891\n",
      "\n",
      "    accuracy                           0.93    536403\n",
      "   macro avg       0.89      0.88      0.88    536403\n",
      "weighted avg       0.94      0.93      0.93    536403\n",
      "\n"
     ]
    },
    {
     "name": "stderr",
     "output_type": "stream",
     "text": [
      "                                                             \r"
     ]
    },
    {
     "name": "stdout",
     "output_type": "stream",
     "text": [
      "Classification Report:\n",
      "              precision    recall  f1-score   support\n",
      "\n",
      "           S       0.98      0.70      0.81     25619\n",
      "           T       0.90      0.95      0.93      6739\n",
      "           L       0.75      0.98      0.85     14328\n",
      "           I       0.94      0.99      0.97    358968\n",
      "           M       0.81      0.87      0.84     21858\n",
      "           O       0.98      0.81      0.88    108891\n",
      "\n",
      "    accuracy                           0.93    536403\n",
      "   macro avg       0.89      0.88      0.88    536403\n",
      "weighted avg       0.94      0.93      0.93    536403\n",
      "\n",
      "Average Loss: 0.0657\n",
      "Token-level Accuracy: 0.9343\n",
      "Matthews Correlation Coefficient (MCC): 0.868810933889746\n",
      "Sequence Level Accuracy: 0.7686\n",
      "Epoch 4, Eval Loss: 0.0657, Eval Accuracy: 0.9343, Eval MCC: 0.8688, Sequence Level Accuracy: 0.7686\n",
      "Matthews Correlation Coefficient (MCC): 0.8688\n"
     ]
    },
    {
     "data": {
      "image/png": "[encoded data removed]",
      "text/plain": [
       "<Figure size 640x480 with 2 Axes>"
      ]
     },
     "metadata": {},
     "output_type": "display_data"
    },
    {
     "name": "stdout",
     "output_type": "stream",
     "text": [
      "Epoch 4, Val Loss: 0.0657, Val Acc: 0.9343\n"
     ]
    }
   ],
   "source": [
    "# Evaluation\n",
    "\n",
    "import matplotlib.pyplot as plt\n",
    "\n",
    "model.eval()\n",
    "val_loss = 0\n",
    "all_preds = [] # predicted labels\n",
    "all_labels = [] # true types\n",
    "with torch.no_grad():\n",
    "    # uses the batches from the test set for eval\n",
    "    for batch in test_loader:\n",
    "        input_ids = batch['input_ids'].to(DEVICE)\n",
    "        attention_mask = batch['attention_mask'].to(DEVICE)\n",
    "        labels = batch['labels'].to(DEVICE)\n",
    "\n",
    "        logits = model(input_ids, attention_mask) # runs forward pass\n",
    "        preds = torch.argmax(logits, dim=-1) # get per token predicted labels\n",
    "\n",
    "        loss = loss_fn(logits.reshape(-1, NUM_CLASSES), labels.reshape(-1)) # calculate loss\n",
    "        val_loss += loss.item()\n",
    "\n",
    "        # flatten the predictions and labels\n",
    "        preds_flat = preds.view(-1)\n",
    "        labels_flat = labels.view(-1)\n",
    "        valid_idx = labels_flat != -100 # exclude padding tokens (-100)\n",
    "        all_preds.extend(preds_flat[valid_idx].cpu().numpy())\n",
    "        all_labels.extend(labels_flat[valid_idx].cpu().numpy())\n",
    "\n",
    "# Report\n",
    "print(\"Classification Report:\")\n",
    "print(classification_report(all_labels, all_preds, target_names=list(label_map.keys())))\n",
    "\n",
    "# Evaluate the model\n",
    "eval_loss, eval_acc, eval_mcc, seq_acc_val = evaluate_model(model, test_loader, loss_fn, test_label_seqs)\n",
    "writer.add_scalar(\"Loss/eval\", eval_loss, epoch)\n",
    "writer.add_scalar(\"Accuracy/eval\", eval_acc, epoch)\n",
    "writer.add_scalar(\"MCC/eval\", eval_mcc, epoch)\n",
    "writer.add_scalar(\"Sequence_Accuracy/eval\", seq_acc_val, epoch)\n",
    "print(f\"Epoch {epoch+1}, Eval Loss: {eval_loss:.4f}, Eval Accuracy: {eval_acc:.4f}, Eval MCC: {eval_mcc:.4f}, Sequence Level Accuracy: {seq_acc_val:.4f}\")\n",
    "\n",
    "from sklearn.metrics import matthews_corrcoef\n",
    "\n",
    "# MCC\n",
    "mcc = matthews_corrcoef(all_labels, all_preds)\n",
    "print(f\"Matthews Correlation Coefficient (MCC): {mcc:.4f}\")\n",
    "\n",
    "# Confusion Matrix\n",
    "from sklearn.metrics import confusion_matrix, ConfusionMatrixDisplay\n",
    "\n",
    "cm = confusion_matrix(all_labels, all_preds, labels=list(label_map.values()))\n",
    "disp = ConfusionMatrixDisplay(confusion_matrix=cm, display_labels=label_map.keys())\n",
    "disp.plot(cmap=\"Blues\", xticks_rotation=45)\n",
    "plt.title(\"Confusion Matrix\")\n",
    "plt.show()\n",
    "\n",
    "\n",
    "# For TensorBoard\n",
    "avg_val_loss = val_loss / len(test_loader)\n",
    "val_acc = accuracy_score(all_labels, all_preds)\n",
    "writer.add_scalar(\"Loss/val\", avg_val_loss, epoch)\n",
    "writer.add_scalar(\"Accuracy/val\", val_acc, epoch)\n",
    "\n",
    "writer.flush()\n",
    "writer.close()\n"
   ]
  },
  {
   "cell_type": "code",
   "execution_count": 50,
   "id": "909ee4fa",
   "metadata": {},
   "outputs": [],
   "source": [
    "\n",
    "torch.save(model.state_dict(), \"/Users/jonas/Desktop/Uni/PBL/models/prot_bert_linear_classifier_v2.pt\")"
   ]
  }
 ],
 "metadata": {
  "kernelspec": {
   "display_name": "Python 3",
   "language": "python",
   "name": "python3"
  },
  "language_info": {
   "codemirror_mode": {
    "name": "ipython",
    "version": 3
   },
   "file_extension": ".py",
   "mimetype": "text/x-python",
   "name": "python",
   "nbconvert_exporter": "python",
   "pygments_lexer": "ipython3",
   "version": "3.12.4"
  }
 },
 "nbformat": 4,
 "nbformat_minor": 5
}
