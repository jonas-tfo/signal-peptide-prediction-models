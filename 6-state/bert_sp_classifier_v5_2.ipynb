{
 "cells": [
  {
   "cell_type": "code",
   "execution_count": 1,
   "id": "fb673bb6",
   "metadata": {},
   "outputs": [
    {
     "name": "stdout",
     "output_type": "stream",
     "text": [
      "Using device: mps\n"
     ]
    }
   ],
   "source": [
    "import tqdm as notebook_tqdm\n",
    "import torch\n",
    "import torch.nn as nn\n",
    "from torch.utils.data import Dataset, DataLoader\n",
    "from transformers import BertTokenizer, BertModel\n",
    "from sklearn.model_selection import train_test_split\n",
    "\n",
    "MODEL_NAME = \"Rostlab/prot_bert\" \n",
    "DEVICE = \"mps\" if torch.backends.mps.is_available() else \"cpu\" # using mps instead of cuda for training on mac\n",
    "#DEVICE = \"cpu\"  # use GPU if available, otherwise CPU\n",
    "print(f\"Using device: {DEVICE}\")\n",
    "NUM_CLASSES = 6  # num classes for classification\n",
    "BATCH_SIZE = 16\n",
    "EPOCHS = 5\n",
    "LR = 0.001"
   ]
  },
  {
   "cell_type": "code",
   "execution_count": 2,
   "id": "abc30469",
   "metadata": {},
   "outputs": [
    {
     "name": "stdout",
     "output_type": "stream",
     "text": [
      "Total records: 25693\n"
     ]
    },
    {
     "data": {
      "application/vnd.microsoft.datawrangler.viewer.v0+json": {
       "columns": [
        {
         "name": "index",
         "rawType": "int64",
         "type": "integer"
        },
        {
         "name": "uniprot_ac",
         "rawType": "object",
         "type": "string"
        },
        {
         "name": "kingdom",
         "rawType": "object",
         "type": "string"
        },
        {
         "name": "type",
         "rawType": "object",
         "type": "string"
        },
        {
         "name": "sequence",
         "rawType": "object",
         "type": "string"
        },
        {
         "name": "label",
         "rawType": "object",
         "type": "string"
        }
       ],
       "ref": "d9b159c4-c6d6-45bc-a562-ed110b2a4e81",
       "rows": [
        [
         "0",
         "Q8TF40",
         "EUKARYA",
         "NO_SP",
         "MAPTLFQKLFSKRTGLGAPGRDARDPDCGFSWPLPEFDPSQIRLIVYQDCERRGRNVLFDSSVKRRNEDI",
         "IIIIIIIIIIIIIIIIIIIIIIIIIIIIIIIIIIIIIIIIIIIIIIIIIIIIIIIIIIIIIIIIIIIIII"
        ],
        [
         "1",
         "Q1ENB6",
         "EUKARYA",
         "NO_SP",
         "MDFTSLETTTFEEVVIALGSNVGNRMNNFKEALRLMKDYGISVTRHSCLYETEPVHVTDQPRFLNAAIRG",
         "IIIIIIIIIIIIIIIIIIIIIIIIIIIIIIIIIIIIIIIIIIIIIIIIIIIIIIIIIIIIIIIIIIIIII"
        ],
        [
         "2",
         "P36001",
         "EUKARYA",
         "NO_SP",
         "MDDISGRQTLPRINRLLEHVGNPQDSLSILHIAGTNGKETVSKFLTSILQHPGQQRQRVLIGRYTTSSLL",
         "IIIIIIIIIIIIIIIIIIIIIIIIIIIIIIIIIIIIIIIIIIIIIIIIIIIIIIIIIIIIIIIIIIIIII"
        ],
        [
         "3",
         "P55317",
         "EUKARYA",
         "NO_SP",
         "MLGTVKMEGHETSDWNSYYADTQEAYSSVPVSNMNSGLGSMNSMNTYMTMNTMTTSGNMTPASFNMSYAN",
         "IIIIIIIIIIIIIIIIIIIIIIIIIIIIIIIIIIIIIIIIIIIIIIIIIIIIIIIIIIIIIIIIIIIIII"
        ],
        [
         "4",
         "P35583",
         "EUKARYA",
         "NO_SP",
         "MLGAVKMEGHEPSDWSSYYAEPEGYSSVSNMNAGLGMNGMNTYMSMSAAAMGGGSGNMSAGSMNMSSYVG",
         "IIIIIIIIIIIIIIIIIIIIIIIIIIIIIIIIIIIIIIIIIIIIIIIIIIIIIIIIIIIIIIIIIIIIII"
        ]
       ],
       "shape": {
        "columns": 5,
        "rows": 5
       }
      },
      "text/html": [
       "<div>\n",
       "<style scoped>\n",
       "    .dataframe tbody tr th:only-of-type {\n",
       "        vertical-align: middle;\n",
       "    }\n",
       "\n",
       "    .dataframe tbody tr th {\n",
       "        vertical-align: top;\n",
       "    }\n",
       "\n",
       "    .dataframe thead th {\n",
       "        text-align: right;\n",
       "    }\n",
       "</style>\n",
       "<table border=\"1\" class=\"dataframe\">\n",
       "  <thead>\n",
       "    <tr style=\"text-align: right;\">\n",
       "      <th></th>\n",
       "      <th>uniprot_ac</th>\n",
       "      <th>kingdom</th>\n",
       "      <th>type</th>\n",
       "      <th>sequence</th>\n",
       "      <th>label</th>\n",
       "    </tr>\n",
       "  </thead>\n",
       "  <tbody>\n",
       "    <tr>\n",
       "      <th>0</th>\n",
       "      <td>Q8TF40</td>\n",
       "      <td>EUKARYA</td>\n",
       "      <td>NO_SP</td>\n",
       "      <td>MAPTLFQKLFSKRTGLGAPGRDARDPDCGFSWPLPEFDPSQIRLIV...</td>\n",
       "      <td>IIIIIIIIIIIIIIIIIIIIIIIIIIIIIIIIIIIIIIIIIIIIII...</td>\n",
       "    </tr>\n",
       "    <tr>\n",
       "      <th>1</th>\n",
       "      <td>Q1ENB6</td>\n",
       "      <td>EUKARYA</td>\n",
       "      <td>NO_SP</td>\n",
       "      <td>MDFTSLETTTFEEVVIALGSNVGNRMNNFKEALRLMKDYGISVTRH...</td>\n",
       "      <td>IIIIIIIIIIIIIIIIIIIIIIIIIIIIIIIIIIIIIIIIIIIIII...</td>\n",
       "    </tr>\n",
       "    <tr>\n",
       "      <th>2</th>\n",
       "      <td>P36001</td>\n",
       "      <td>EUKARYA</td>\n",
       "      <td>NO_SP</td>\n",
       "      <td>MDDISGRQTLPRINRLLEHVGNPQDSLSILHIAGTNGKETVSKFLT...</td>\n",
       "      <td>IIIIIIIIIIIIIIIIIIIIIIIIIIIIIIIIIIIIIIIIIIIIII...</td>\n",
       "    </tr>\n",
       "    <tr>\n",
       "      <th>3</th>\n",
       "      <td>P55317</td>\n",
       "      <td>EUKARYA</td>\n",
       "      <td>NO_SP</td>\n",
       "      <td>MLGTVKMEGHETSDWNSYYADTQEAYSSVPVSNMNSGLGSMNSMNT...</td>\n",
       "      <td>IIIIIIIIIIIIIIIIIIIIIIIIIIIIIIIIIIIIIIIIIIIIII...</td>\n",
       "    </tr>\n",
       "    <tr>\n",
       "      <th>4</th>\n",
       "      <td>P35583</td>\n",
       "      <td>EUKARYA</td>\n",
       "      <td>NO_SP</td>\n",
       "      <td>MLGAVKMEGHEPSDWSSYYAEPEGYSSVSNMNAGLGMNGMNTYMSM...</td>\n",
       "      <td>IIIIIIIIIIIIIIIIIIIIIIIIIIIIIIIIIIIIIIIIIIIIII...</td>\n",
       "    </tr>\n",
       "  </tbody>\n",
       "</table>\n",
       "</div>"
      ],
      "text/plain": [
       "  uniprot_ac  kingdom   type  \\\n",
       "0     Q8TF40  EUKARYA  NO_SP   \n",
       "1     Q1ENB6  EUKARYA  NO_SP   \n",
       "2     P36001  EUKARYA  NO_SP   \n",
       "3     P55317  EUKARYA  NO_SP   \n",
       "4     P35583  EUKARYA  NO_SP   \n",
       "\n",
       "                                            sequence  \\\n",
       "0  MAPTLFQKLFSKRTGLGAPGRDARDPDCGFSWPLPEFDPSQIRLIV...   \n",
       "1  MDFTSLETTTFEEVVIALGSNVGNRMNNFKEALRLMKDYGISVTRH...   \n",
       "2  MDDISGRQTLPRINRLLEHVGNPQDSLSILHIAGTNGKETVSKFLT...   \n",
       "3  MLGTVKMEGHETSDWNSYYADTQEAYSSVPVSNMNSGLGSMNSMNT...   \n",
       "4  MLGAVKMEGHEPSDWSSYYAEPEGYSSVSNMNAGLGMNGMNTYMSM...   \n",
       "\n",
       "                                               label  \n",
       "0  IIIIIIIIIIIIIIIIIIIIIIIIIIIIIIIIIIIIIIIIIIIIII...  \n",
       "1  IIIIIIIIIIIIIIIIIIIIIIIIIIIIIIIIIIIIIIIIIIIIII...  \n",
       "2  IIIIIIIIIIIIIIIIIIIIIIIIIIIIIIIIIIIIIIIIIIIIII...  \n",
       "3  IIIIIIIIIIIIIIIIIIIIIIIIIIIIIIIIIIIIIIIIIIIIII...  \n",
       "4  IIIIIIIIIIIIIIIIIIIIIIIIIIIIIIIIIIIIIIIIIIIIII...  "
      ]
     },
     "execution_count": 2,
     "metadata": {},
     "output_type": "execute_result"
    }
   ],
   "source": [
    "import pandas as pd\n",
    "\n",
    "records = []  # uniprot_ac, kingdom, type_, sequence, label\n",
    "with open(\"/Users/jonas/Desktop/Uni/PBL/data/complete_set_unpartitioned.fasta\", \"r\") as f:\n",
    "    current_record = None\n",
    "    for line in f:\n",
    "        if line.startswith(\">\"):\n",
    "            if current_record is not None:\n",
    "                if current_record[\"sequence\"] is not None and current_record[\"label\"] is not None:\n",
    "                    # Save the previous record before starting a new one\n",
    "                    records.append(current_record)\n",
    "                else:\n",
    "                    # If the previous record is incomplete, skip it\n",
    "                    print(\"Skipping incomplete record:\", current_record)\n",
    "            # Start a new record\n",
    "            uniprot_ac, kingdom, type_ = line[1:].strip().split(\"|\")\n",
    "            current_record = {\"uniprot_ac\": uniprot_ac, \"kingdom\": kingdom, \"type\": type_, \"sequence\": None, \"label\": None}\n",
    "        else:\n",
    "            # Check if the line contains a sequence or a label\n",
    "            if current_record[\"sequence\"] is None:\n",
    "                current_record[\"sequence\"] = line.strip()\n",
    "            elif current_record[\"label\"] is None:\n",
    "                current_record[\"label\"] = line.strip()\n",
    "            else:\n",
    "                # If both sequence and label are already set, skip this line\n",
    "                print(\"Skipping extra line in record:\", current_record)\n",
    "    # Save the last record if it's complete\n",
    "    if current_record is not None:\n",
    "        if current_record[\"sequence\"] is not None and current_record[\"label\"] is not None:\n",
    "            records.append(current_record)\n",
    "        else:\n",
    "            print(\"Skipping incomplete record:\", current_record)\n",
    "\n",
    "\"\"\"\n",
    "# Save the DataFrame to a CSV file\n",
    "df_raw.to_csv(\"/Users/jonas/Desktop/Uni/PBL/data/complete_set_unpartitioned.csv\", index=False)\n",
    "\"\"\"\n",
    "# Print the number of records\n",
    "print(f\"Total records: {len(records)}\")\n",
    "df_raw = pd.DataFrame(records)\n",
    "df_raw.head()\n"
   ]
  },
  {
   "cell_type": "code",
   "execution_count": null,
   "id": "cd8e66eb",
   "metadata": {},
   "outputs": [
    {
     "data": {
      "application/vnd.microsoft.datawrangler.viewer.v0+json": {
       "columns": [
        {
         "name": "index",
         "rawType": "object",
         "type": "string"
        },
        {
         "name": "uniprot_ac",
         "rawType": "object",
         "type": "unknown"
        },
        {
         "name": "kingdom",
         "rawType": "object",
         "type": "unknown"
        },
        {
         "name": "type",
         "rawType": "object",
         "type": "unknown"
        },
        {
         "name": "sequence",
         "rawType": "object",
         "type": "unknown"
        },
        {
         "name": "label",
         "rawType": "object",
         "type": "unknown"
        }
       ],
       "ref": "90ef334b-5336-4441-ab0e-4ae36841baf7",
       "rows": [
        [
         "count",
         "25580",
         "25580",
         "25580",
         "25580",
         "25580"
        ],
        [
         "unique",
         "25580",
         "4",
         "5",
         "24367",
         "1878"
        ],
        [
         "top",
         "Q8TF40",
         "EUKARYA",
         "NO_SP",
         "MKLSRRSFMKANAVAAAAAAAGLSVPGVARAVVGQQEAIKWDKAPCRFCGTGCGVLVGTQQGRVVACQGD",
         "IIIIIIIIIIIIIIIIIIIIIIIIIIIIIIIIIIIIIIIIIIIIIIIIIIIIIIIIIIIIIIIIIIIIII"
        ],
        [
         "freq",
         "1",
         "20423",
         "19036",
         "41",
         "16382"
        ]
       ],
       "shape": {
        "columns": 5,
        "rows": 4
       }
      },
      "text/html": [
       "<div>\n",
       "<style scoped>\n",
       "    .dataframe tbody tr th:only-of-type {\n",
       "        vertical-align: middle;\n",
       "    }\n",
       "\n",
       "    .dataframe tbody tr th {\n",
       "        vertical-align: top;\n",
       "    }\n",
       "\n",
       "    .dataframe thead th {\n",
       "        text-align: right;\n",
       "    }\n",
       "</style>\n",
       "<table border=\"1\" class=\"dataframe\">\n",
       "  <thead>\n",
       "    <tr style=\"text-align: right;\">\n",
       "      <th></th>\n",
       "      <th>uniprot_ac</th>\n",
       "      <th>kingdom</th>\n",
       "      <th>type</th>\n",
       "      <th>sequence</th>\n",
       "      <th>label</th>\n",
       "    </tr>\n",
       "  </thead>\n",
       "  <tbody>\n",
       "    <tr>\n",
       "      <th>count</th>\n",
       "      <td>25580</td>\n",
       "      <td>25580</td>\n",
       "      <td>25580</td>\n",
       "      <td>25580</td>\n",
       "      <td>25580</td>\n",
       "    </tr>\n",
       "    <tr>\n",
       "      <th>unique</th>\n",
       "      <td>25580</td>\n",
       "      <td>4</td>\n",
       "      <td>5</td>\n",
       "      <td>24367</td>\n",
       "      <td>1878</td>\n",
       "    </tr>\n",
       "    <tr>\n",
       "      <th>top</th>\n",
       "      <td>Q8TF40</td>\n",
       "      <td>EUKARYA</td>\n",
       "      <td>NO_SP</td>\n",
       "      <td>MKLSRRSFMKANAVAAAAAAAGLSVPGVARAVVGQQEAIKWDKAPC...</td>\n",
       "      <td>IIIIIIIIIIIIIIIIIIIIIIIIIIIIIIIIIIIIIIIIIIIIII...</td>\n",
       "    </tr>\n",
       "    <tr>\n",
       "      <th>freq</th>\n",
       "      <td>1</td>\n",
       "      <td>20423</td>\n",
       "      <td>19036</td>\n",
       "      <td>41</td>\n",
       "      <td>16382</td>\n",
       "    </tr>\n",
       "  </tbody>\n",
       "</table>\n",
       "</div>"
      ],
      "text/plain": [
       "       uniprot_ac  kingdom   type  \\\n",
       "count       25580    25580  25580   \n",
       "unique      25580        4      5   \n",
       "top        Q8TF40  EUKARYA  NO_SP   \n",
       "freq            1    20423  19036   \n",
       "\n",
       "                                                 sequence  \\\n",
       "count                                               25580   \n",
       "unique                                              24367   \n",
       "top     MKLSRRSFMKANAVAAAAAAAGLSVPGVARAVVGQQEAIKWDKAPC...   \n",
       "freq                                                   41   \n",
       "\n",
       "                                                    label  \n",
       "count                                               25580  \n",
       "unique                                               1878  \n",
       "top     IIIIIIIIIIIIIIIIIIIIIIIIIIIIIIIIIIIIIIIIIIIIII...  \n",
       "freq                                                16382  "
      ]
     },
     "execution_count": 3,
     "metadata": {},
     "output_type": "execute_result"
    }
   ],
   "source": [
    "df = df_raw[~df_raw[\"label\"].str.contains(\"P\")]\n",
    "df.describe()"
   ]
  },
  {
   "cell_type": "code",
   "execution_count": 4,
   "id": "06c475a3",
   "metadata": {},
   "outputs": [
    {
     "data": {
      "application/vnd.microsoft.datawrangler.viewer.v0+json": {
       "columns": [
        {
         "name": "index",
         "rawType": "object",
         "type": "string"
        },
        {
         "name": "uniprot_ac",
         "rawType": "object",
         "type": "unknown"
        },
        {
         "name": "kingdom",
         "rawType": "object",
         "type": "unknown"
        },
        {
         "name": "type",
         "rawType": "object",
         "type": "unknown"
        },
        {
         "name": "sequence",
         "rawType": "object",
         "type": "unknown"
        },
        {
         "name": "label",
         "rawType": "object",
         "type": "unknown"
        }
       ],
       "ref": "f48736aa-394c-434c-b61e-098bdd525095",
       "rows": [
        [
         "count",
         "25580",
         "25580",
         "25580",
         "25580",
         "25580"
        ],
        [
         "unique",
         "25580",
         "4",
         "5",
         "24367",
         "1878"
        ],
        [
         "top",
         "Q8TF40",
         "EUKARYA",
         "NO_SP",
         "MKLSRRSFMKANAVAAAAAAAGLSVPGVARAVVGQQEAIKWDKAPCRFCGTGCGVLVGTQQGRVVACQGD",
         "[3, 3, 3, 3, 3, 3, 3, 3, 3, 3, 3, 3, 3, 3, 3, 3, 3, 3, 3, 3, 3, 3, 3, 3, 3, 3, 3, 3, 3, 3, 3, 3, 3, 3, 3, 3, 3, 3, 3, 3, 3, 3, 3, 3, 3, 3, 3, 3, 3, 3, 3, 3, 3, 3, 3, 3, 3, 3, 3, 3, 3, 3, 3, 3, 3, 3, 3, 3, 3, 3]"
        ],
        [
         "freq",
         "1",
         "20423",
         "19036",
         "41",
         "16382"
        ]
       ],
       "shape": {
        "columns": 5,
        "rows": 4
       }
      },
      "text/html": [
       "<div>\n",
       "<style scoped>\n",
       "    .dataframe tbody tr th:only-of-type {\n",
       "        vertical-align: middle;\n",
       "    }\n",
       "\n",
       "    .dataframe tbody tr th {\n",
       "        vertical-align: top;\n",
       "    }\n",
       "\n",
       "    .dataframe thead th {\n",
       "        text-align: right;\n",
       "    }\n",
       "</style>\n",
       "<table border=\"1\" class=\"dataframe\">\n",
       "  <thead>\n",
       "    <tr style=\"text-align: right;\">\n",
       "      <th></th>\n",
       "      <th>uniprot_ac</th>\n",
       "      <th>kingdom</th>\n",
       "      <th>type</th>\n",
       "      <th>sequence</th>\n",
       "      <th>label</th>\n",
       "    </tr>\n",
       "  </thead>\n",
       "  <tbody>\n",
       "    <tr>\n",
       "      <th>count</th>\n",
       "      <td>25580</td>\n",
       "      <td>25580</td>\n",
       "      <td>25580</td>\n",
       "      <td>25580</td>\n",
       "      <td>25580</td>\n",
       "    </tr>\n",
       "    <tr>\n",
       "      <th>unique</th>\n",
       "      <td>25580</td>\n",
       "      <td>4</td>\n",
       "      <td>5</td>\n",
       "      <td>24367</td>\n",
       "      <td>1878</td>\n",
       "    </tr>\n",
       "    <tr>\n",
       "      <th>top</th>\n",
       "      <td>Q8TF40</td>\n",
       "      <td>EUKARYA</td>\n",
       "      <td>NO_SP</td>\n",
       "      <td>MKLSRRSFMKANAVAAAAAAAGLSVPGVARAVVGQQEAIKWDKAPC...</td>\n",
       "      <td>[3, 3, 3, 3, 3, 3, 3, 3, 3, 3, 3, 3, 3, 3, 3, ...</td>\n",
       "    </tr>\n",
       "    <tr>\n",
       "      <th>freq</th>\n",
       "      <td>1</td>\n",
       "      <td>20423</td>\n",
       "      <td>19036</td>\n",
       "      <td>41</td>\n",
       "      <td>16382</td>\n",
       "    </tr>\n",
       "  </tbody>\n",
       "</table>\n",
       "</div>"
      ],
      "text/plain": [
       "       uniprot_ac  kingdom   type  \\\n",
       "count       25580    25580  25580   \n",
       "unique      25580        4      5   \n",
       "top        Q8TF40  EUKARYA  NO_SP   \n",
       "freq            1    20423  19036   \n",
       "\n",
       "                                                 sequence  \\\n",
       "count                                               25580   \n",
       "unique                                              24367   \n",
       "top     MKLSRRSFMKANAVAAAAAAAGLSVPGVARAVVGQQEAIKWDKAPC...   \n",
       "freq                                                   41   \n",
       "\n",
       "                                                    label  \n",
       "count                                               25580  \n",
       "unique                                               1878  \n",
       "top     [3, 3, 3, 3, 3, 3, 3, 3, 3, 3, 3, 3, 3, 3, 3, ...  \n",
       "freq                                                16382  "
      ]
     },
     "execution_count": 4,
     "metadata": {},
     "output_type": "execute_result"
    }
   ],
   "source": [
    "label_map = {'S': 0, 'T': 1, 'L': 2, 'I': 3, 'M': 4, 'O': 5}\n",
    "\n",
    "df_encoded = df.copy()\n",
    "df_encoded[\"label\"] = df_encoded[\"label\"].apply(lambda x: [label_map[c] for c in x if c in label_map])\n",
    "df_encoded = df_encoded[df_encoded[\"label\"].map(len) > 0]  # Remove rows with empty label lists\n",
    "\n",
    "# make random smaller dataset\n",
    "#df_encoded = df_encoded.sample(frac=0.4, random_state=42)\n",
    "\n",
    "sequences = df_encoded[\"sequence\"].tolist()\n",
    "label_seqs = df_encoded[\"label\"].tolist()\n",
    "\n",
    "df_encoded.describe()\n"
   ]
  },
  {
   "cell_type": "code",
   "execution_count": 5,
   "id": "63d54f7c",
   "metadata": {},
   "outputs": [
    {
     "data": {
      "text/plain": [
       "BertModel(\n",
       "  (embeddings): BertEmbeddings(\n",
       "    (word_embeddings): Embedding(30, 1024, padding_idx=0)\n",
       "    (position_embeddings): Embedding(40000, 1024)\n",
       "    (token_type_embeddings): Embedding(2, 1024)\n",
       "    (LayerNorm): LayerNorm((1024,), eps=1e-12, elementwise_affine=True)\n",
       "    (dropout): Dropout(p=0.0, inplace=False)\n",
       "  )\n",
       "  (encoder): BertEncoder(\n",
       "    (layer): ModuleList(\n",
       "      (0-29): 30 x BertLayer(\n",
       "        (attention): BertAttention(\n",
       "          (self): BertSdpaSelfAttention(\n",
       "            (query): Linear(in_features=1024, out_features=1024, bias=True)\n",
       "            (key): Linear(in_features=1024, out_features=1024, bias=True)\n",
       "            (value): Linear(in_features=1024, out_features=1024, bias=True)\n",
       "            (dropout): Dropout(p=0.0, inplace=False)\n",
       "          )\n",
       "          (output): BertSelfOutput(\n",
       "            (dense): Linear(in_features=1024, out_features=1024, bias=True)\n",
       "            (LayerNorm): LayerNorm((1024,), eps=1e-12, elementwise_affine=True)\n",
       "            (dropout): Dropout(p=0.0, inplace=False)\n",
       "          )\n",
       "        )\n",
       "        (intermediate): BertIntermediate(\n",
       "          (dense): Linear(in_features=1024, out_features=4096, bias=True)\n",
       "          (intermediate_act_fn): GELUActivation()\n",
       "        )\n",
       "        (output): BertOutput(\n",
       "          (dense): Linear(in_features=4096, out_features=1024, bias=True)\n",
       "          (LayerNorm): LayerNorm((1024,), eps=1e-12, elementwise_affine=True)\n",
       "          (dropout): Dropout(p=0.0, inplace=False)\n",
       "        )\n",
       "      )\n",
       "    )\n",
       "  )\n",
       "  (pooler): BertPooler(\n",
       "    (dense): Linear(in_features=1024, out_features=1024, bias=True)\n",
       "    (activation): Tanh()\n",
       "  )\n",
       ")"
      ]
     },
     "execution_count": 5,
     "metadata": {},
     "output_type": "execute_result"
    }
   ],
   "source": [
    "# Load tokenizer and model\n",
    "tokenizer = BertTokenizer.from_pretrained(MODEL_NAME, do_lower_case=False)\n",
    "encoder = BertModel.from_pretrained(MODEL_NAME)\n",
    "encoder.to(DEVICE)"
   ]
  },
  {
   "cell_type": "code",
   "execution_count": 6,
   "id": "4a36f8cb",
   "metadata": {},
   "outputs": [],
   "source": [
    "# Stratify by sequence length to avoid ValueError\n",
    "train_seqs, test_seqs, train_label_seqs, test_label_seqs = train_test_split(\n",
    "    sequences, label_seqs, test_size=0.3, random_state=42\n",
    ")"
   ]
  },
  {
   "cell_type": "code",
   "execution_count": 7,
   "id": "42144b9d",
   "metadata": {},
   "outputs": [],
   "source": [
    "# Load the data \n",
    "class SPDataset(Dataset):\n",
    "    def __init__(self, sequences, label_seqs, label_map):\n",
    "        self.label_map = label_map\n",
    "        self.label_seqs = label_seqs\n",
    "        self.sequences = sequences\n",
    "\n",
    "    def __len__(self):\n",
    "        return len(self.sequences)\n",
    "\n",
    "    def __getitem__(self, idx):\n",
    "        seq = self.sequences[idx]\n",
    "        # preprocess the sequence (insert spaces between amino acids)\n",
    "        seq_processed = \" \".join(list(seq))\n",
    "        labels = self.label_seqs[idx]\n",
    "        # Tokenize the sequence (padding to ensure all sequences are the same length -> 512 tokens) \n",
    "        encoded = tokenizer(seq_processed, return_tensors=\"pt\",\n",
    "                            padding=\"max_length\", truncation=True, max_length=512)\n",
    "        input_ids = encoded['input_ids'].squeeze(0)\n",
    "        attention_mask = encoded['attention_mask'].squeeze(0)\n",
    "        \n",
    "        # Build a label tensor of the same length as input_ids.\n",
    "        # For tokens beyond the original sequence length, assign -100 so that loss func ignores them.\n",
    "        orig_length = len(seq)\n",
    "        token_labels = []\n",
    "        \n",
    "        for i in range(input_ids.size(0)):\n",
    "            if i == 0 or i > orig_length:  \n",
    "                token_labels.append(-100)  # ignore padding tokens\n",
    "            else:\n",
    "                # Use the already encoded label directly\n",
    "                token_labels.append(labels[i-1])\n",
    "        labels_tensor = torch.tensor(token_labels)\n",
    "        \n",
    "        return {\n",
    "            'input_ids': input_ids, # tokenized and padded \n",
    "            'attention_mask': attention_mask, # differentiate between padding and non-padding tokens\n",
    "            'labels': labels_tensor # aligned label tensor\n",
    "        }\n",
    "\n",
    "train_dataset = SPDataset(train_seqs, train_label_seqs, label_map)\n",
    "test_dataset = SPDataset(test_seqs, test_label_seqs, label_map)\n",
    "\n",
    "train_loader = DataLoader(train_dataset, batch_size=BATCH_SIZE, shuffle=True)\n",
    "test_loader = DataLoader(test_dataset, batch_size=BATCH_SIZE)"
   ]
  },
  {
   "cell_type": "code",
   "execution_count": null,
   "id": "e43de5ab",
   "metadata": {},
   "outputs": [],
   "source": [
    "import torch\n",
    "import torch.nn as nn\n",
    "import torch.nn.functional as F\n",
    "from torchcrf import CRF\n",
    "\n",
    "class SPCNNClassifier(nn.Module):\n",
    "    def __init__(self, encoder_model, num_labels):\n",
    "        super().__init__()\n",
    "        self.encoder = encoder_model  \n",
    "        self.dropout = nn.Dropout(0.2)\n",
    "        hidden_size = self.encoder.config.hidden_size\n",
    "        # detects local features in the sequence\n",
    "        self.conv = nn.Conv1d(in_channels=hidden_size, out_channels=1024, kernel_size=8, dilation=2, padding=7)\n",
    "        # Normalize the convolution output (expects shape: (batch, 1024, seq_len))\n",
    "        self.bn_conv = nn.BatchNorm1d(1024)\n",
    "        # 2 layer long short term memory network\n",
    "        self.lstm = nn.LSTM(input_size=1024, hidden_size=512, num_layers=2, bidirectional=True, batch_first=True)\n",
    "        # dense layer\n",
    "        self.classifier = nn.Linear(512 * 2, num_labels)\n",
    "        self.crf = CRF(num_labels, batch_first=True)\n",
    "\n",
    "\n",
    "\n",
    "    def forward(self, input_ids, attention_mask, labels=None):\n",
    "        # Encode with BERT\n",
    "        encoder_output = self.encoder(input_ids=input_ids, attention_mask=attention_mask)\n",
    "        hidden_states = encoder_output.last_hidden_state  # (batch, seq_len, hidden_size)\n",
    "        #residue_embeddings = output.last_hidden_state[:, 1:-1, :]  # Remove CLS/SEP\n",
    "\n",
    "        #  CNN 1\n",
    "        # Apply conv, then batch normalization and ReLU\n",
    "        x_conv = self.conv(hidden_states.transpose(1, 2))  # (batch, 1024, seq_len)\n",
    "        x_conv = self.bn_conv(x_conv)\n",
    "        x_conv = F.relu_(x_conv)                          # (batch, 1024, seq_len)\n",
    "\n",
    "        # Transpose CNN output for LSTM: (batch, seq_len, features)\n",
    "        x_lstm_input = x_conv.transpose(1, 2)           # (batch, seq_len, 1024)\n",
    "\n",
    "        # Apply BiLSTM\n",
    "        lstm_out, _ = self.lstm(x_lstm_input)            # (batch, seq_len, 1024)\n",
    "\n",
    "        # Classifier to num_labels\n",
    "        x_linear = self.classifier(lstm_out)             # (batch, seq_len, num_labels)\n",
    "        logits = self.dropout(x_linear)                  # (batch, seq_len, num_labels)\n",
    "\n",
    "        if labels is not None:\n",
    "            # Replace ignore-index (-100) with a valid label (0) since CRF doesn't support -100\n",
    "            mod_labels = labels.clone()\n",
    "            mod_labels[labels == -100] = 0\n",
    "            loss = -self.crf(logits, mod_labels, mask=attention_mask.bool(), reduction='mean')\n",
    "            return loss\n",
    "        else:\n",
    "            predictions = self.crf.decode(logits, mask=attention_mask.bool())\n",
    "            return predictions\n",
    "\n"
   ]
  },
  {
   "cell_type": "code",
   "execution_count": 9,
   "id": "7e0d88fd",
   "metadata": {},
   "outputs": [],
   "source": [
    "from transformers import get_linear_schedule_with_warmup\n",
    "\n",
    "# Initialize the model\n",
    "model = SPCNNClassifier(encoder, NUM_CLASSES).to(DEVICE)\n",
    "model.load_state_dict(torch.load(\"/Users/jonas/Desktop/Uni/PBL/models/prot_bert_linear_classifier_v5.pt\", map_location=DEVICE))\n",
    "\n",
    "# optimizer \n",
    "optimizer = torch.optim.AdamW([\n",
    "    {\"params\": model.encoder.encoder.layer[-4:].parameters(), \"lr\": 5e-6},\n",
    "    {\"params\": model.conv.parameters(), \"lr\": 1e-3},\n",
    "    {\"params\": model.classifier.parameters(), \"lr\": 1e-3},\n",
    "    {\"params\": model.lstm.parameters(), \"lr\": 1e-3},\n",
    "    {\"params\": model.crf.parameters(), \"lr\": 1e-3},\n",
    "])  # adjust weight_decay as needed\n",
    "\n",
    "total_steps = len(train_loader) * EPOCHS\n",
    "# scheduler for learning rate\n",
    "scheduler = get_linear_schedule_with_warmup(\n",
    "    optimizer,\n",
    "    num_warmup_steps=int(0.1 * total_steps),\n",
    "    num_training_steps=total_steps\n",
    ")\n"
   ]
  },
  {
   "cell_type": "code",
   "execution_count": 10,
   "id": "4d562c26",
   "metadata": {},
   "outputs": [],
   "source": [
    "# Compute sequence-level accuracy, skipping -100 (ignored) positions\n",
    "def sequence_level_accuracy(preds_flat, labels_flat, test_label_seqs):\n",
    "    # reconstruct the sequences from the flat predictions\n",
    "    seq_lengths = [len(seq) for seq in test_label_seqs]\n",
    "    preds_seq = []\n",
    "    labels_seq = []\n",
    "    idx = 0\n",
    "    for l in seq_lengths:\n",
    "        preds_seq.append(preds_flat[idx:idx+l])\n",
    "        labels_seq.append(labels_flat[idx:idx+l])\n",
    "        idx += l\n",
    "\n",
    "    # check if the valid predictions match the labels\n",
    "    correct = 0\n",
    "    for pred, label in zip(preds_seq, labels_seq):\n",
    "        is_valid = [l != -100 for l in label]\n",
    "        valid_preds = [p for p, valid in zip(pred, is_valid) if valid]\n",
    "        valid_labels = [l for l, valid in zip(label, is_valid) if valid]\n",
    "        if valid_preds == valid_labels:\n",
    "            correct += 1\n",
    "\n",
    "    total = len(seq_lengths)\n",
    "    return correct / total if total > 0 else 0.0\n"
   ]
  },
  {
   "cell_type": "code",
   "execution_count": null,
   "id": "d159eaca",
   "metadata": {},
   "outputs": [
    {
     "name": "stderr",
     "output_type": "stream",
     "text": [
      "/Library/Frameworks/Python.framework/Versions/3.12/lib/python3.12/site-packages/torch/amp/grad_scaler.py:136: UserWarning: torch.cuda.amp.GradScaler is enabled, but CUDA is not available.  Disabling.\n",
      "  warnings.warn(\n",
      "Epoch 1/5: 100%|██████████| 1120/1120 [2:25:28<00:00,  7.79s/batch, loss=0.0744]\n"
     ]
    },
    {
     "name": "stdout",
     "output_type": "stream",
     "text": [
      "Epoch 1, Loss: 2.6852\n"
     ]
    },
    {
     "name": "stderr",
     "output_type": "stream",
     "text": [
      "Epoch 2/5: 100%|██████████| 1120/1120 [2:25:17<00:00,  7.78s/batch, loss=0.493]  \n"
     ]
    },
    {
     "name": "stdout",
     "output_type": "stream",
     "text": [
      "Epoch 2, Loss: 2.2232\n"
     ]
    },
    {
     "name": "stderr",
     "output_type": "stream",
     "text": [
      "Epoch 3/5: 100%|██████████| 1120/1120 [2:24:51<00:00,  7.76s/batch, loss=0.124]  \n"
     ]
    },
    {
     "name": "stdout",
     "output_type": "stream",
     "text": [
      "Epoch 3, Loss: 1.6904\n"
     ]
    },
    {
     "name": "stderr",
     "output_type": "stream",
     "text": [
      "Epoch 4/5: 100%|██████████| 1120/1120 [2:24:52<00:00,  7.76s/batch, loss=0.154]  \n"
     ]
    },
    {
     "name": "stdout",
     "output_type": "stream",
     "text": [
      "Epoch 4, Loss: 1.2726\n"
     ]
    },
    {
     "name": "stderr",
     "output_type": "stream",
     "text": [
      "Epoch 5/5: 100%|██████████| 1120/1120 [2:24:54<00:00,  7.76s/batch, loss=0.0363] "
     ]
    },
    {
     "name": "stdout",
     "output_type": "stream",
     "text": [
      "Epoch 5, Loss: 0.9077\n"
     ]
    },
    {
     "name": "stderr",
     "output_type": "stream",
     "text": [
      "\n"
     ]
    }
   ],
   "source": [
    "from torch.utils.tensorboard import SummaryWriter\n",
    "from tqdm import tqdm\n",
    "from torch.amp import autocast, GradScaler\n",
    "import gc\n",
    "\n",
    "writer = SummaryWriter(log_dir=\"/Users/jonas/Desktop/Uni/PBL/logs/prot_bert_linear_classifier_v5\")\n",
    "scaler = GradScaler()\n",
    "\n",
    "# Freeze encoder parameters initially (last 10 layers)\n",
    "for param in model.encoder.encoder.layer[:-10].parameters():\n",
    "    param.requires_grad = False\n",
    "model.encoder.gradient_checkpointing_enable()  # Enable gradient checkpointing for memory efficiency\n",
    "\n",
    "# training loop\n",
    "for epoch in range(EPOCHS):\n",
    "    model.train()\n",
    "    pbar = tqdm(train_loader, desc=f\"Epoch {epoch+1}/{EPOCHS}\", unit=\"batch\")\n",
    "    total_loss = 0  # total epoch loss\n",
    "\n",
    "    for batch in pbar:\n",
    "        try:\n",
    "            input_ids = batch['input_ids'].to(DEVICE)\n",
    "            attention_mask = batch['attention_mask'].to(DEVICE)\n",
    "            token_labels = batch['labels'].to(DEVICE)\n",
    "\n",
    "            optimizer.zero_grad()  # reset gradients\n",
    "\n",
    "            loss = model(input_ids, attention_mask, token_labels)  # single forward pass\n",
    "\n",
    "            scaler.scale(loss).backward()      # backpropagation\n",
    "            scaler.unscale_(optimizer)         # Unscale gradients before clipping\n",
    "            torch.nn.utils.clip_grad_norm_(model.parameters(), max_norm=1.0)  # gradient clipping\n",
    "            scaler.step(optimizer)             # update weights\n",
    "            scaler.update()                    # update scaler\n",
    "            scheduler.step()                   # update learning rate\n",
    "\n",
    "            total_loss += loss.item()\n",
    "            pbar.set_postfix(loss=loss.item())\n",
    "\n",
    "        except RuntimeError as e:\n",
    "            print(\"Error during training:\", e)\n",
    "            gc.collect()\n",
    "            torch.mps.empty_cache()\n",
    "            continue\n",
    "\n",
    "    # Optionally clear the cache once per epoch if needed.\n",
    "    torch.mps.empty_cache()  \n",
    "    avg_train_loss = total_loss / len(train_loader)\n",
    "    print(f\"Epoch {epoch+1}, Loss: {avg_train_loss:.4f}\")\n",
    "    writer.add_scalar(\"Loss/train\", avg_train_loss, epoch)\n",
    "\n",
    "writer.flush()\n",
    "writer.close()"
   ]
  },
  {
   "cell_type": "code",
   "execution_count": 12,
   "id": "cf5ec91f",
   "metadata": {},
   "outputs": [],
   "source": [
    "torch.save(model.state_dict(), \"/Users/jonas/Desktop/Uni/PBL/models/prot_bert_linear_classifier_v5_2.pt\")"
   ]
  },
  {
   "cell_type": "code",
   "execution_count": 15,
   "id": "01c38879",
   "metadata": {},
   "outputs": [
    {
     "name": "stdout",
     "output_type": "stream",
     "text": [
      "Classification Report:\n",
      "              precision    recall  f1-score   support\n",
      "\n",
      "           S       0.94      0.94      0.94     25619\n",
      "           T       0.97      0.94      0.96      6739\n",
      "           L       0.97      0.96      0.97     14328\n",
      "           I       0.97      0.98      0.98    358968\n",
      "           M       0.87      0.84      0.86     21858\n",
      "           O       0.92      0.92      0.92    108891\n",
      "\n",
      "    accuracy                           0.96    536403\n",
      "   macro avg       0.94      0.93      0.94    536403\n",
      "weighted avg       0.96      0.96      0.96    536403\n",
      "\n",
      "F1 Score (weighted): 0.9584\n",
      "F1 Score (macro): 0.9363\n",
      "Sequence Level Accuracy: 0.8525\n",
      "Matthews Correlation Coefficient (MCC): 0.9177\n",
      "Token-level Accuracy: 0.9584\n"
     ]
    },
    {
     "data": {
      "image/png": "[encoded data removed]",
      "text/plain": [
       "<Figure size 640x480 with 2 Axes>"
      ]
     },
     "metadata": {},
     "output_type": "display_data"
    }
   ],
   "source": [
    "# Evaluation\n",
    "\n",
    "import os\n",
    "import matplotlib.pyplot as plt\n",
    "import numpy as np\n",
    "import torch\n",
    "from sklearn.metrics import classification_report, f1_score, matthews_corrcoef, accuracy_score, classification_report\n",
    "\n",
    "model = SPCNNClassifier(encoder, NUM_CLASSES).to(DEVICE)\n",
    "model.load_state_dict(torch.load(\"/Users/jonas/Desktop/Uni/PBL/models/prot_bert_linear_classifier_v5_2.pt\", map_location=DEVICE))\n",
    "\n",
    "\n",
    "val_loss = 0\n",
    "all_preds = []\n",
    "all_labels = []\n",
    "\n",
    "with torch.no_grad():\n",
    "    for batch in test_loader:\n",
    "        input_ids = batch['input_ids'].to(DEVICE)\n",
    "        attention_mask = batch['attention_mask'].to(DEVICE)\n",
    "        labels = batch['labels'].to(DEVICE)\n",
    "\n",
    "        # Compute loss using CRF (pass labels)\n",
    "        loss = model(input_ids=input_ids, attention_mask=attention_mask, labels=labels)\n",
    "        val_loss += loss.item()\n",
    "\n",
    "        # Decode predictions using CRF (no labels passed)\n",
    "        predictions = model(input_ids=input_ids, attention_mask=attention_mask)  # List[List[int]]\n",
    "\n",
    "        # Loop through batch and collect valid tokens\n",
    "        for pred_seq, label_seq, mask in zip(predictions, labels, attention_mask):\n",
    "            for pred, true, is_valid in zip(pred_seq, label_seq, mask):\n",
    "                if true.item() != -100 and is_valid.item() == 1:\n",
    "                    all_preds.append(pred)\n",
    "                    all_labels.append(true.item())\n",
    "\n",
    "\n",
    "# Report\n",
    "print(\"Classification Report:\")\n",
    "print(classification_report(all_labels, all_preds, target_names=list(label_map.keys())))\n",
    "\n",
    "# F1 Score weighted\n",
    "from sklearn.metrics import classification_report, f1_score, matthews_corrcoef, accuracy_score, classification_report\n",
    "f1 = f1_score(all_labels, all_preds, average='weighted')\n",
    "print(f\"F1 Score (weighted): {f1:.4f}\")\n",
    "# F1 Score macro\n",
    "f1_macro = f1_score(all_labels, all_preds, average='macro')\n",
    "print(f\"F1 Score (macro): {f1_macro:.4f}\")\n",
    "\n",
    "# Sequence Level Accuracy\n",
    "seq_acc_val = sequence_level_accuracy(all_preds, all_labels, test_label_seqs)\n",
    "print(f\"Sequence Level Accuracy: {seq_acc_val:.4f}\")\n",
    "\n",
    "# Matthews Correlation Coefficient (MCC)\n",
    "mcc = matthews_corrcoef(all_labels, all_preds)\n",
    "print(f\"Matthews Correlation Coefficient (MCC): {mcc:.4f}\")\n",
    "\n",
    "# Token-level Accuracy\n",
    "token_acc = accuracy_score(all_labels, all_preds)\n",
    "print(f\"Token-level Accuracy: {token_acc:.4f}\")\n",
    "\n",
    "# Confusion Matrix\n",
    "from sklearn.metrics import confusion_matrix, ConfusionMatrixDisplay\n",
    "\n",
    "cm = confusion_matrix(all_labels, all_preds, labels=list(label_map.values()))\n",
    "cm_relative = cm.astype(\"float\") / cm.sum(axis=1, keepdims=True)  # normalize per true label\n",
    "disp = ConfusionMatrixDisplay(confusion_matrix=cm_relative, display_labels=list(label_map.keys()))\n",
    "disp.plot(cmap=\"OrRd\", xticks_rotation=45)\n",
    "plt.title(\"Confusion Matrix (Relative)\")\n",
    "plt.show()\n",
    "\n",
    "writer.add_scalar(\"Loss/test\", val_loss)\n",
    "\n",
    "writer.flush()\n",
    "writer.close()\n"
   ]
  },
  {
   "cell_type": "code",
   "execution_count": 1,
   "id": "75761736",
   "metadata": {},
   "outputs": [
    {
     "data": {
      "image/png": "[encoded data removed]",
      "text/plain": [
       "<Figure size 600x1000 with 1 Axes>"
      ]
     },
     "metadata": {},
     "output_type": "display_data"
    }
   ],
   "source": [
    "import matplotlib.pyplot as plt\n",
    "import matplotlib.patches as mpatches\n",
    "\n",
    "def draw_vertical_model():\n",
    "    fig, ax = plt.subplots(figsize=(6, 10))\n",
    "    ax.axis('off')\n",
    "\n",
    "    # Define blocks with (x, y)\n",
    "    blocks = [\n",
    "        (\"Input IDs\", 0.5, 9.0),\n",
    "        (\"Attention Mask\", 2.5, 9.0),\n",
    "        (\"Encoder\\n(BERT-like)\", 1.5, 8.0),\n",
    "        (\"Conv1D\\n(1 layer, kernel=8, dilation=2)\", 1.5, 7.0),\n",
    "        (\"BatchNorm1D + ReLU\", 1.5, 6.0),\n",
    "        (\"BiLSTM\\n(2 layers, hidden=512)\", 1.5, 5.0),\n",
    "        (\"Dense\\n(1024 → num_label (6))\", 1.5, 4.0),\n",
    "        (\"Dropout\\n(p=0.2)\", 1.5, 3.0),\n",
    "        (\"CRF Layer\", 1.5, 2.0),\n",
    "        (\"Per token Predictions\", 1.5, 1.0)\n",
    "    ]\n",
    "\n",
    "    box_width = 2.0\n",
    "    box_height = 0.6\n",
    "\n",
    "    # Draw blocks\n",
    "    for label, x, y in blocks:\n",
    "        rect = mpatches.FancyBboxPatch((x, y), box_width, box_height, boxstyle=\"round,pad=0.03\",\n",
    "                                       edgecolor='black', facecolor='skyblue', linewidth=2)\n",
    "        ax.add_patch(rect)\n",
    "        ax.text(x + box_width / 2, y + box_height / 2, label, ha='center', va='center', fontsize=10)\n",
    "\n",
    "    # Draw arrows\n",
    "    for i in range(2, len(blocks) - 1):  # skip input IDs and mask arrows\n",
    "        x1 = blocks[i][1] + box_width / 2\n",
    "        y1 = blocks[i][2]\n",
    "        y2 = blocks[i+1][2] + box_height\n",
    "        ax.annotate('', xy=(x1, y2), xytext=(x1, y1),\n",
    "                    arrowprops=dict(facecolor='black', arrowstyle='->'))\n",
    "\n",
    "    # Draw arrows from inputs\n",
    "    ax.annotate('', xy=(1.5 + box_width/2, 8.6), xytext=(0.5 + box_width/2, 9.0),\n",
    "                arrowprops=dict(facecolor='black', arrowstyle='->'))\n",
    "    ax.annotate('', xy=(1.5 + box_width/2, 8.6), xytext=(2.5 + box_width/2, 9.0),\n",
    "                arrowprops=dict(facecolor='black', arrowstyle='->'))\n",
    "\n",
    "    plt.title(\"SPCNNClassifier Architecture\", fontsize=14)\n",
    "    plt.ylim(0, 10)\n",
    "    plt.xlim(0, 5)\n",
    "    plt.tight_layout()\n",
    "    plt.show()\n",
    "\n",
    "draw_vertical_model()\n"
   ]
  }
 ],
 "metadata": {
  "kernelspec": {
   "display_name": "Python 3",
   "language": "python",
   "name": "python3"
  },
  "language_info": {
   "codemirror_mode": {
    "name": "ipython",
    "version": 3
   },
   "file_extension": ".py",
   "mimetype": "text/x-python",
   "name": "python",
   "nbconvert_exporter": "python",
   "pygments_lexer": "ipython3",
   "version": "3.12.4"
  }
 },
 "nbformat": 4,
 "nbformat_minor": 5
}
